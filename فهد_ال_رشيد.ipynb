{
  "nbformat": 4,
  "nbformat_minor": 0,
  "metadata": {
    "colab": {
      "provenance": [],
      "authorship_tag": "ABX9TyNAcJ0tplB3GFjZfzUu+f8r",
      "include_colab_link": true
    },
    "kernelspec": {
      "name": "python3",
      "display_name": "Python 3"
    },
    "language_info": {
      "name": "python"
    }
  },
  "cells": [
    {
      "cell_type": "markdown",
      "metadata": {
        "id": "view-in-github",
        "colab_type": "text"
      },
      "source": [
        "<a href=\"https://colab.research.google.com/github/Ahmed66660/A2/blob/main/%D9%81%D9%87%D8%AF_%D8%A7%D9%84_%D8%B1%D8%B4%D9%8A%D8%AF.ipynb\" target=\"_parent\"><img src=\"https://colab.research.google.com/assets/colab-badge.svg\" alt=\"Open In Colab\"/></a>"
      ]
    },
    {
      "cell_type": "code",
      "execution_count": null,
      "metadata": {
        "id": "bk8eH6ZA095S"
      },
      "outputs": [],
      "source": []
    },
    {
      "cell_type": "code",
      "execution_count": null,
      "metadata": {
        "id": "92e6036f"
      },
      "outputs": [],
      "source": [
        "  import pandas as pd #   تحليل بيانات أساسية غير مرتبة بحيث ينتج عن هذا التحليل تحويل البيانات الى شكل أخر يُمكن فهمه والتعامل معه\n",
        "import seaborn as sns# لإنشاء مجموعة متنوعة من الرسوم البيانية،\n",
        "import numpy as np #للتعامل مع مصفوفات والعنليات الحسابية\n",
        "import scipy.stats as stats# للقيام  يعملية الاحصاء\n",
        "import matplotlib.pyplot as plt # تحويل البيانات الرقمية الى رسومات\n",
        "import plotly.express as px #رسم\n",
        "%matplotlib inline\n",
        "import matplotlib.pyplot as plt  #"
      ]
    },
    {
      "cell_type": "code",
      "execution_count": null,
      "metadata": {
        "colab": {
          "base_uri": "https://localhost:8080/",
          "height": 339
        },
        "id": "d459e4df",
        "outputId": "68996f6f-42c6-426b-e0d2-b773f0f57be5"
      },
      "outputs": [
        {
          "output_type": "error",
          "ename": "FileNotFoundError",
          "evalue": "[Errno 2] No such file or directory: 'C:\\\\Users\\\\dohan\\\\Desktop\\\\طويق\\\\deaths_1439.xlsx'",
          "traceback": [
            "\u001b[0;31m---------------------------------------------------------------------------\u001b[0m",
            "\u001b[0;31mFileNotFoundError\u001b[0m                         Traceback (most recent call last)",
            "\u001b[0;32m<ipython-input-7-f911632a7348>\u001b[0m in \u001b[0;36m<cell line: 1>\u001b[0;34m()\u001b[0m\n\u001b[0;32m----> 1\u001b[0;31m \u001b[0mdf\u001b[0m\u001b[0;34m=\u001b[0m\u001b[0mpd\u001b[0m\u001b[0;34m.\u001b[0m\u001b[0mread_excel\u001b[0m\u001b[0;34m(\u001b[0m\u001b[0;34mr'C:\\Users\\dohan\\Desktop\\طويق\\deaths_1439.xlsx'\u001b[0m\u001b[0;34m)\u001b[0m\u001b[0;34m\u001b[0m\u001b[0;34m\u001b[0m\u001b[0m\n\u001b[0m",
            "\u001b[0;32m/usr/local/lib/python3.10/dist-packages/pandas/util/_decorators.py\u001b[0m in \u001b[0;36mwrapper\u001b[0;34m(*args, **kwargs)\u001b[0m\n\u001b[1;32m    209\u001b[0m                 \u001b[0;32melse\u001b[0m\u001b[0;34m:\u001b[0m\u001b[0;34m\u001b[0m\u001b[0;34m\u001b[0m\u001b[0m\n\u001b[1;32m    210\u001b[0m                     \u001b[0mkwargs\u001b[0m\u001b[0;34m[\u001b[0m\u001b[0mnew_arg_name\u001b[0m\u001b[0;34m]\u001b[0m \u001b[0;34m=\u001b[0m \u001b[0mnew_arg_value\u001b[0m\u001b[0;34m\u001b[0m\u001b[0;34m\u001b[0m\u001b[0m\n\u001b[0;32m--> 211\u001b[0;31m             \u001b[0;32mreturn\u001b[0m \u001b[0mfunc\u001b[0m\u001b[0;34m(\u001b[0m\u001b[0;34m*\u001b[0m\u001b[0margs\u001b[0m\u001b[0;34m,\u001b[0m \u001b[0;34m**\u001b[0m\u001b[0mkwargs\u001b[0m\u001b[0;34m)\u001b[0m\u001b[0;34m\u001b[0m\u001b[0;34m\u001b[0m\u001b[0m\n\u001b[0m\u001b[1;32m    212\u001b[0m \u001b[0;34m\u001b[0m\u001b[0m\n\u001b[1;32m    213\u001b[0m         \u001b[0;32mreturn\u001b[0m \u001b[0mcast\u001b[0m\u001b[0;34m(\u001b[0m\u001b[0mF\u001b[0m\u001b[0;34m,\u001b[0m \u001b[0mwrapper\u001b[0m\u001b[0;34m)\u001b[0m\u001b[0;34m\u001b[0m\u001b[0;34m\u001b[0m\u001b[0m\n",
            "\u001b[0;32m/usr/local/lib/python3.10/dist-packages/pandas/util/_decorators.py\u001b[0m in \u001b[0;36mwrapper\u001b[0;34m(*args, **kwargs)\u001b[0m\n\u001b[1;32m    329\u001b[0m                     \u001b[0mstacklevel\u001b[0m\u001b[0;34m=\u001b[0m\u001b[0mfind_stack_level\u001b[0m\u001b[0;34m(\u001b[0m\u001b[0;34m)\u001b[0m\u001b[0;34m,\u001b[0m\u001b[0;34m\u001b[0m\u001b[0;34m\u001b[0m\u001b[0m\n\u001b[1;32m    330\u001b[0m                 )\n\u001b[0;32m--> 331\u001b[0;31m             \u001b[0;32mreturn\u001b[0m \u001b[0mfunc\u001b[0m\u001b[0;34m(\u001b[0m\u001b[0;34m*\u001b[0m\u001b[0margs\u001b[0m\u001b[0;34m,\u001b[0m \u001b[0;34m**\u001b[0m\u001b[0mkwargs\u001b[0m\u001b[0;34m)\u001b[0m\u001b[0;34m\u001b[0m\u001b[0;34m\u001b[0m\u001b[0m\n\u001b[0m\u001b[1;32m    332\u001b[0m \u001b[0;34m\u001b[0m\u001b[0m\n\u001b[1;32m    333\u001b[0m         \u001b[0;31m# error: \"Callable[[VarArg(Any), KwArg(Any)], Any]\" has no\u001b[0m\u001b[0;34m\u001b[0m\u001b[0;34m\u001b[0m\u001b[0m\n",
            "\u001b[0;32m/usr/local/lib/python3.10/dist-packages/pandas/io/excel/_base.py\u001b[0m in \u001b[0;36mread_excel\u001b[0;34m(io, sheet_name, header, names, index_col, usecols, squeeze, dtype, engine, converters, true_values, false_values, skiprows, nrows, na_values, keep_default_na, na_filter, verbose, parse_dates, date_parser, thousands, decimal, comment, skipfooter, convert_float, mangle_dupe_cols, storage_options)\u001b[0m\n\u001b[1;32m    480\u001b[0m     \u001b[0;32mif\u001b[0m \u001b[0;32mnot\u001b[0m \u001b[0misinstance\u001b[0m\u001b[0;34m(\u001b[0m\u001b[0mio\u001b[0m\u001b[0;34m,\u001b[0m \u001b[0mExcelFile\u001b[0m\u001b[0;34m)\u001b[0m\u001b[0;34m:\u001b[0m\u001b[0;34m\u001b[0m\u001b[0;34m\u001b[0m\u001b[0m\n\u001b[1;32m    481\u001b[0m         \u001b[0mshould_close\u001b[0m \u001b[0;34m=\u001b[0m \u001b[0;32mTrue\u001b[0m\u001b[0;34m\u001b[0m\u001b[0;34m\u001b[0m\u001b[0m\n\u001b[0;32m--> 482\u001b[0;31m         \u001b[0mio\u001b[0m \u001b[0;34m=\u001b[0m \u001b[0mExcelFile\u001b[0m\u001b[0;34m(\u001b[0m\u001b[0mio\u001b[0m\u001b[0;34m,\u001b[0m \u001b[0mstorage_options\u001b[0m\u001b[0;34m=\u001b[0m\u001b[0mstorage_options\u001b[0m\u001b[0;34m,\u001b[0m \u001b[0mengine\u001b[0m\u001b[0;34m=\u001b[0m\u001b[0mengine\u001b[0m\u001b[0;34m)\u001b[0m\u001b[0;34m\u001b[0m\u001b[0;34m\u001b[0m\u001b[0m\n\u001b[0m\u001b[1;32m    483\u001b[0m     \u001b[0;32melif\u001b[0m \u001b[0mengine\u001b[0m \u001b[0;32mand\u001b[0m \u001b[0mengine\u001b[0m \u001b[0;34m!=\u001b[0m \u001b[0mio\u001b[0m\u001b[0;34m.\u001b[0m\u001b[0mengine\u001b[0m\u001b[0;34m:\u001b[0m\u001b[0;34m\u001b[0m\u001b[0;34m\u001b[0m\u001b[0m\n\u001b[1;32m    484\u001b[0m         raise ValueError(\n",
            "\u001b[0;32m/usr/local/lib/python3.10/dist-packages/pandas/io/excel/_base.py\u001b[0m in \u001b[0;36m__init__\u001b[0;34m(self, path_or_buffer, engine, storage_options)\u001b[0m\n\u001b[1;32m   1650\u001b[0m                 \u001b[0mext\u001b[0m \u001b[0;34m=\u001b[0m \u001b[0;34m\"xls\"\u001b[0m\u001b[0;34m\u001b[0m\u001b[0;34m\u001b[0m\u001b[0m\n\u001b[1;32m   1651\u001b[0m             \u001b[0;32melse\u001b[0m\u001b[0;34m:\u001b[0m\u001b[0;34m\u001b[0m\u001b[0;34m\u001b[0m\u001b[0m\n\u001b[0;32m-> 1652\u001b[0;31m                 ext = inspect_excel_format(\n\u001b[0m\u001b[1;32m   1653\u001b[0m                     \u001b[0mcontent_or_path\u001b[0m\u001b[0;34m=\u001b[0m\u001b[0mpath_or_buffer\u001b[0m\u001b[0;34m,\u001b[0m \u001b[0mstorage_options\u001b[0m\u001b[0;34m=\u001b[0m\u001b[0mstorage_options\u001b[0m\u001b[0;34m\u001b[0m\u001b[0;34m\u001b[0m\u001b[0m\n\u001b[1;32m   1654\u001b[0m                 )\n",
            "\u001b[0;32m/usr/local/lib/python3.10/dist-packages/pandas/io/excel/_base.py\u001b[0m in \u001b[0;36minspect_excel_format\u001b[0;34m(content_or_path, storage_options)\u001b[0m\n\u001b[1;32m   1523\u001b[0m         \u001b[0mcontent_or_path\u001b[0m \u001b[0;34m=\u001b[0m \u001b[0mBytesIO\u001b[0m\u001b[0;34m(\u001b[0m\u001b[0mcontent_or_path\u001b[0m\u001b[0;34m)\u001b[0m\u001b[0;34m\u001b[0m\u001b[0;34m\u001b[0m\u001b[0m\n\u001b[1;32m   1524\u001b[0m \u001b[0;34m\u001b[0m\u001b[0m\n\u001b[0;32m-> 1525\u001b[0;31m     with get_handle(\n\u001b[0m\u001b[1;32m   1526\u001b[0m         \u001b[0mcontent_or_path\u001b[0m\u001b[0;34m,\u001b[0m \u001b[0;34m\"rb\"\u001b[0m\u001b[0;34m,\u001b[0m \u001b[0mstorage_options\u001b[0m\u001b[0;34m=\u001b[0m\u001b[0mstorage_options\u001b[0m\u001b[0;34m,\u001b[0m \u001b[0mis_text\u001b[0m\u001b[0;34m=\u001b[0m\u001b[0;32mFalse\u001b[0m\u001b[0;34m\u001b[0m\u001b[0;34m\u001b[0m\u001b[0m\n\u001b[1;32m   1527\u001b[0m     ) as handle:\n",
            "\u001b[0;32m/usr/local/lib/python3.10/dist-packages/pandas/io/common.py\u001b[0m in \u001b[0;36mget_handle\u001b[0;34m(path_or_buf, mode, encoding, compression, memory_map, is_text, errors, storage_options)\u001b[0m\n\u001b[1;32m    863\u001b[0m         \u001b[0;32melse\u001b[0m\u001b[0;34m:\u001b[0m\u001b[0;34m\u001b[0m\u001b[0;34m\u001b[0m\u001b[0m\n\u001b[1;32m    864\u001b[0m             \u001b[0;31m# Binary mode\u001b[0m\u001b[0;34m\u001b[0m\u001b[0;34m\u001b[0m\u001b[0m\n\u001b[0;32m--> 865\u001b[0;31m             \u001b[0mhandle\u001b[0m \u001b[0;34m=\u001b[0m \u001b[0mopen\u001b[0m\u001b[0;34m(\u001b[0m\u001b[0mhandle\u001b[0m\u001b[0;34m,\u001b[0m \u001b[0mioargs\u001b[0m\u001b[0;34m.\u001b[0m\u001b[0mmode\u001b[0m\u001b[0;34m)\u001b[0m\u001b[0;34m\u001b[0m\u001b[0;34m\u001b[0m\u001b[0m\n\u001b[0m\u001b[1;32m    866\u001b[0m         \u001b[0mhandles\u001b[0m\u001b[0;34m.\u001b[0m\u001b[0mappend\u001b[0m\u001b[0;34m(\u001b[0m\u001b[0mhandle\u001b[0m\u001b[0;34m)\u001b[0m\u001b[0;34m\u001b[0m\u001b[0;34m\u001b[0m\u001b[0m\n\u001b[1;32m    867\u001b[0m \u001b[0;34m\u001b[0m\u001b[0m\n",
            "\u001b[0;31mFileNotFoundError\u001b[0m: [Errno 2] No such file or directory: 'C:\\\\Users\\\\dohan\\\\Desktop\\\\طويق\\\\deaths_1439.xlsx'"
          ]
        }
      ],
      "source": [
        "df=pd.read_excel(r'C:\\Users\\dohan\\Desktop\\طويق\\deaths_1439.xlsx')\n",
        "dj=pd.read_excel(r'C:\\Users\\dohan\\Desktop\\طويق\\Injured_1439.xlsx')\n"
      ]
    },
    {
      "cell_type": "markdown",
      "metadata": {
        "id": "15568d55"
      },
      "source": []
    },
    {
      "cell_type": "code",
      "execution_count": null,
      "metadata": {
        "scrolled": true,
        "id": "37b212f4"
      },
      "outputs": [],
      "source": [
        "dj.rename(columns={\"أناث\":\"Female\",\"ذكور\":\"M\",\"خارج المدينه\":\"outside the city\",\"داخل المدينه\":\"Inside the city\",\"أقل من 18\":\"Under 18\",\"من 30 على 40\":\"From 30 to 40\",\"من18 إلى 30\":\"From 18 to 30\",\"من40إلى50\":\"From 40 to 50\",\"من50فأكثر\":\"More than 50\",\"سعودى\":\"Saudi\",\"غير سعودى\":\"Non-Saudi\",\"الشهر\":\"the month\",\"المنطقة\":\"Region\",\"المجموع\":\"Total\",\"المجموع.1\":\"Total1\",\"المجموع.2\":\"Total2\",\"المجموع.3\":\"Total3\"},inplace=True)#تغير اسماء عامود\n",
        "dj.head()\n"
      ]
    },
    {
      "cell_type": "code",
      "execution_count": null,
      "metadata": {
        "id": "183f3cda"
      },
      "outputs": [],
      "source": []
    },
    {
      "cell_type": "code",
      "execution_count": null,
      "metadata": {
        "id": "4e77a4e7"
      },
      "outputs": [],
      "source": [
        "dj['the month'].replace({'محرم':'Muharram', 'صفر':'Safar','ربيع أول':'Rabi_Awal','ربيع ثانى':'Rabie_Thani',\n",
        "                               'جمادى أول':'Jumada-Awal','جمادى ثانى':'Jumada-Thani','رجب':'Rajab','شعبان':'Shabaan',\n",
        "                               'رمضان':'Ramadan','شوال':'Shawal','ذى القعدة':'Dhu-AlQadah','ذى الحجة':'Dhul-Hijjah'},\n",
        "                                inplace = True)\n",
        "dj"
      ]
    },
    {
      "cell_type": "code",
      "execution_count": null,
      "metadata": {
        "id": "ffe46a2e"
      },
      "outputs": [],
      "source": [
        "dj['Region'].replace({'الرياض- عدد الأشخاص المصابين حسب الجنس':'Riyadh', 'القريات':'Qurayyat',\n",
        "                                'المدينه المنوره- عــد د الأشخاص المصابين حسب الجنس':'Madinah',\n",
        "                                'الشرقيه- عــدد الأشخاص المصابين حسب الجنس':'Eastern_Province',\n",
        "                                'الحـــدو د الشماليه- عــدد الأشخاص المصابين حسب الجنس':'Northern_border','تبوك':'Tabuk',\n",
        "                                'الجوف':'Al-Jouf','حائل':'Hail','نجران':'Najran','القصيم':'Qassim','الباحه':'Albaha',\n",
        "                                'عسير':'Assir','جازان':'Jazan','جده':'Jeddah', 'الطائف':'Taif','العاصمه':'Makkah'},inplace = True)\n",
        "dj"
      ]
    },
    {
      "cell_type": "code",
      "execution_count": null,
      "metadata": {
        "id": "e59b7b75"
      },
      "outputs": [],
      "source": [
        "display(dj.dtypes)"
      ]
    },
    {
      "cell_type": "code",
      "execution_count": null,
      "metadata": {
        "id": "735bcadb"
      },
      "outputs": [],
      "source": [
        "dj.head()"
      ]
    },
    {
      "cell_type": "code",
      "execution_count": null,
      "metadata": {
        "id": "0cdac710"
      },
      "outputs": [],
      "source": [
        "dj.sample(5)"
      ]
    },
    {
      "cell_type": "code",
      "execution_count": null,
      "metadata": {
        "id": "1de6c7c9"
      },
      "outputs": [],
      "source": [
        "dj.isnull().sum().sum()"
      ]
    },
    {
      "cell_type": "code",
      "execution_count": null,
      "metadata": {
        "id": "e95d2d4b"
      },
      "outputs": [],
      "source": [
        "dj.dropna(inplace=True)"
      ]
    },
    {
      "cell_type": "code",
      "execution_count": null,
      "metadata": {
        "id": "46a92b5a"
      },
      "outputs": [],
      "source": [
        "dj.isnull().sum().sum()"
      ]
    },
    {
      "cell_type": "code",
      "execution_count": null,
      "metadata": {
        "id": "79a192f4"
      },
      "outputs": [],
      "source": [
        "dj.describe()"
      ]
    },
    {
      "cell_type": "code",
      "execution_count": null,
      "metadata": {
        "id": "7d54431c"
      },
      "outputs": [],
      "source": [
        "dj.info()"
      ]
    },
    {
      "cell_type": "code",
      "execution_count": null,
      "metadata": {
        "id": "6d74bd8d"
      },
      "outputs": [],
      "source": [
        "dj.mode()"
      ]
    },
    {
      "cell_type": "code",
      "execution_count": null,
      "metadata": {
        "id": "9ebfa37e"
      },
      "outputs": [],
      "source": [
        "  dj.convert_dtypes(int)"
      ]
    },
    {
      "cell_type": "code",
      "execution_count": null,
      "metadata": {
        "id": "02bffe9a"
      },
      "outputs": [],
      "source": []
    },
    {
      "cell_type": "code",
      "execution_count": null,
      "metadata": {
        "id": "2ce7a6eb"
      },
      "outputs": [],
      "source": [
        "dj_droop = dj.drop([\"the month\",\"Region\" ], axis = 1)\n",
        "dj_droop"
      ]
    },
    {
      "cell_type": "code",
      "execution_count": null,
      "metadata": {
        "id": "e206e608"
      },
      "outputs": [],
      "source": [
        "sns.heatmap(dj_droop.corr(), annot=True)"
      ]
    },
    {
      "cell_type": "code",
      "execution_count": null,
      "metadata": {
        "id": "5c98e931"
      },
      "outputs": [],
      "source": [
        "sns.histplot(dj_droop[\"Female\"])"
      ]
    },
    {
      "cell_type": "code",
      "execution_count": null,
      "metadata": {
        "id": "9201519d"
      },
      "outputs": [],
      "source": [
        "stats=df_merg.drop(['Inside the city',\n",
        "       'outside the city', 'Under 18', 'From 18 to 30', 'From 30 to 40', 'From 40 to 50',\n",
        "       'More than 50', 'saudi', 'Non-Saudi', 'months_y', 'citys_y', 'in_city_y', 'out_city_y', 'lees<18_y',\n",
        "       'for18To30_y', 'for30To40_y', 'for40To50_y', 'large<50_y', 'saudi_y',\n",
        "       'Non_saudi_y'],axis=1)\n",
        "stats"
      ]
    },
    {
      "cell_type": "markdown",
      "metadata": {
        "id": "7e3e65bf"
      },
      "source": [
        "## deaths file"
      ]
    },
    {
      "cell_type": "code",
      "execution_count": null,
      "metadata": {
        "id": "6696b774"
      },
      "outputs": [],
      "source": [
        "\n",
        "df.rename(columns={\"أناث\":\"Female\",\"ذكور\":\"M\",\"خارج المدينه\":\"outside the city\",\"داخل المدينه\":\"Inside the city\",\"أقل من 18\":\"Under 18\",\"من 30 على 40\":\"From 30 to 40\",\"من18 إلى 30\":\"From 18 to 30\",\"من40إلى50\":\"From 40 to 50\",\"من50فأكثر\":\"More than 50\",\"سعودى\":\"Saudi\",\"غير سعودى\":\"Non-Saudi\",\"الشهر\":\"the month\",\"المنطقة\":\"Region\",\"المجموع\":\"Total\",\"المجموع.1\":\"Total1\",\"المجموع.2\":\"Total2\",\"المجموع.3\":\"Total3\"},inplace=True)#تغير اسماء عامود\n",
        "df.head()\n"
      ]
    },
    {
      "cell_type": "code",
      "execution_count": null,
      "metadata": {
        "id": "05147b7b"
      },
      "outputs": [],
      "source": [
        "df['the month'].replace({'محرم':'Muharram', 'صفر':'Safar','ربيع أول':'Rabi_Awal','ربيع ثانى':'Rabie_Thani',\n",
        "                               'جمادى أول':'Jumada-Awal','جمادى ثانى':'Jumada-Thani','رجب':'Rajab','شعبان':'Shabaan',\n",
        "                               'رمضان':'Ramadan','شوال':'Shawal','ذى القعدة':'Dhu-AlQadah','ذى الحجة':'Dhul-Hijjah'},\n",
        "                                inplace = True)\n",
        "df"
      ]
    },
    {
      "cell_type": "code",
      "execution_count": null,
      "metadata": {
        "id": "446d2283"
      },
      "outputs": [],
      "source": [
        "df['Region'].rename({'الرياض- عدد الأشخاص المصابين حسب الجنس':'Riyadh', 'القريات':'Qurayyat',\n",
        "                                'المدينه المنوره- عــد د الأشخاص المصابين حسب الجنس':'Madinah',\n",
        "                                'الشرقيه- عــدد الأشخاص المصابين حسب الجنس':'Eastern_Province',\n",
        "                                'الحـــدو د الشماليه- عــدد الأشخاص المصابين حسب الجنس':'Northern_border','تبوك':'Tabuk',\n",
        "                                'الجوف':'Al-Jouf','حائل':'Hail','نجران':'Najran','القصيم':'Qassim','الباحه':'Albaha',\n",
        "                                'عسير':'Assir','جازان':'Jazan','جده':'Jeddah', 'الطائف':'Taif','العاصمه':'Makkah'},inplace = True)\n",
        "df"
      ]
    },
    {
      "cell_type": "code",
      "execution_count": null,
      "metadata": {
        "id": "0e3309be"
      },
      "outputs": [],
      "source": [
        "df.rename(columns={\"region\":\"Region\", \"months\":\"the month\"},inplace=True)\n",
        "df"
      ]
    },
    {
      "cell_type": "code",
      "execution_count": null,
      "metadata": {
        "id": "eb63a11e"
      },
      "outputs": [],
      "source": [
        "df.isnull().sum().sum()"
      ]
    },
    {
      "cell_type": "code",
      "execution_count": null,
      "metadata": {
        "id": "db5e13e4"
      },
      "outputs": [],
      "source": [
        "df.dropna(inplace=True)"
      ]
    },
    {
      "cell_type": "code",
      "execution_count": null,
      "metadata": {
        "id": "eca05186"
      },
      "outputs": [],
      "source": [
        "df_clean=df.dropna(inplace=True)"
      ]
    },
    {
      "cell_type": "code",
      "execution_count": null,
      "metadata": {
        "id": "d5fa0243"
      },
      "outputs": [],
      "source": [
        "df.hist(column='men',    # Column to plot\n",
        "                   figsize=(9,6),   # Plot size\n",
        "                   bins=20) ;        # Number of histogram bins\n"
      ]
    },
    {
      "cell_type": "code",
      "execution_count": null,
      "metadata": {
        "id": "f34978ae"
      },
      "outputs": [],
      "source": [
        "df.shape"
      ]
    },
    {
      "cell_type": "code",
      "execution_count": null,
      "metadata": {
        "id": "e5f7e0f0"
      },
      "outputs": [],
      "source": [
        "df.shape[1]"
      ]
    },
    {
      "cell_type": "code",
      "execution_count": null,
      "metadata": {
        "id": "f1d04706"
      },
      "outputs": [],
      "source": [
        "df.shape[0]"
      ]
    },
    {
      "cell_type": "code",
      "execution_count": null,
      "metadata": {
        "id": "ac93f86c"
      },
      "outputs": [],
      "source": [
        "list(df.columns)"
      ]
    },
    {
      "cell_type": "code",
      "execution_count": null,
      "metadata": {
        "id": "2a22d4a2"
      },
      "outputs": [],
      "source": [
        "print(df.columns)"
      ]
    },
    {
      "cell_type": "code",
      "execution_count": null,
      "metadata": {
        "id": "272e4cfe"
      },
      "outputs": [],
      "source": [
        "df.describe().T"
      ]
    },
    {
      "cell_type": "code",
      "execution_count": null,
      "metadata": {
        "id": "ad165126"
      },
      "outputs": [],
      "source": []
    },
    {
      "cell_type": "code",
      "execution_count": null,
      "metadata": {
        "id": "3468f894"
      },
      "outputs": [],
      "source": [
        "df.tail(20)"
      ]
    },
    {
      "cell_type": "code",
      "execution_count": null,
      "metadata": {
        "id": "25453962"
      },
      "outputs": [],
      "source": [
        "dj.tail(10)"
      ]
    },
    {
      "cell_type": "code",
      "execution_count": null,
      "metadata": {
        "id": "ba6e32cd"
      },
      "outputs": [],
      "source": [
        "df.info()"
      ]
    },
    {
      "cell_type": "code",
      "execution_count": null,
      "metadata": {
        "id": "f20a472c"
      },
      "outputs": [],
      "source": []
    },
    {
      "cell_type": "code",
      "execution_count": null,
      "metadata": {
        "id": "ca4cf6c0"
      },
      "outputs": [],
      "source": [
        "nulldf=df.loc[df[\"female\"].isnull()]\n",
        "nulldf"
      ]
    },
    {
      "cell_type": "code",
      "execution_count": null,
      "metadata": {
        "id": "b7c279a4"
      },
      "outputs": [],
      "source": [
        "df.sample(10)"
      ]
    },
    {
      "cell_type": "code",
      "execution_count": null,
      "metadata": {
        "id": "176a453f"
      },
      "outputs": [],
      "source": []
    },
    {
      "cell_type": "code",
      "execution_count": null,
      "metadata": {
        "id": "4df6913d"
      },
      "outputs": [],
      "source": [
        "df.mode()"
      ]
    },
    {
      "cell_type": "code",
      "execution_count": null,
      "metadata": {
        "scrolled": true,
        "id": "9fe69109"
      },
      "outputs": [],
      "source": [
        " df.convert_dtypes(int)"
      ]
    },
    {
      "cell_type": "code",
      "execution_count": null,
      "metadata": {
        "id": "79263e9a"
      },
      "outputs": [],
      "source": [
        "#Visualize Sex/ Gender\n",
        "gender_count = df['Region'].value_counts()\n",
        "plt.bar(gender_count.index, gender_count.values)\n",
        "plt.xlabel('Count')\n",
        "plt.ylabel('men')\n",
        "plt.title('men Distribution')\n",
        "plt.show()"
      ]
    },
    {
      "cell_type": "code",
      "execution_count": null,
      "metadata": {
        "id": "c23e09c7"
      },
      "outputs": [],
      "source": [
        "df.rename(columns={\"region\":\"Region\", \"months\":\"the month\"},inplace=True)\n",
        "df"
      ]
    },
    {
      "cell_type": "code",
      "execution_count": null,
      "metadata": {
        "id": "9394cf61"
      },
      "outputs": [],
      "source": [
        "sns.heatmap(dj_droop.corr(), annot=True)"
      ]
    },
    {
      "cell_type": "code",
      "execution_count": null,
      "metadata": {
        "id": "4665fc8c"
      },
      "outputs": [],
      "source": [
        "# Group data by 'Survived' and count 'Pclass' values within each group\n",
        "grouped = df.groupby('Region')['the month'].value_counts().unstack()\n",
        "\n",
        "# Plot the grouped data as a bar plot\n",
        "ax = grouped.plot(kind='bar', stacked=True)\n",
        "ax.set_xlabel('Region')\n",
        "ax.set_ylabel('female')\n",
        "ax.legend(title='deaths', labels=['M', 'female', 'Non-saudi'])\n",
        "plt.show()\n"
      ]
    },
    {
      "cell_type": "code",
      "execution_count": null,
      "metadata": {
        "id": "e98b8563"
      },
      "outputs": [],
      "source": [
        "sns.set_style()\n",
        "sns.distplot(df.female)\n",
        "sns.distplot(df.men)\n",
        "sns.distplot(df.saudi)\n",
        "sns.distplot(df.men)"
      ]
    },
    {
      "cell_type": "code",
      "execution_count": null,
      "metadata": {
        "id": "90abddac"
      },
      "outputs": [],
      "source": [
        "sns.barplot(x='men',y='Region',data=df)"
      ]
    },
    {
      "cell_type": "code",
      "execution_count": null,
      "metadata": {
        "scrolled": true,
        "id": "1018f69f"
      },
      "outputs": [],
      "source": [
        "sns.lmplot(x='female' , y='men', data= df,fit_reg=False ,hue='Region')"
      ]
    },
    {
      "cell_type": "code",
      "execution_count": null,
      "metadata": {
        "id": "f7a1ba0c"
      },
      "outputs": [],
      "source": [
        "df_And_dj=pd.merge(df,dj,on=[\"Region\",\"the month\"], how=\"left\")\n",
        "df_And_dj"
      ]
    },
    {
      "cell_type": "code",
      "execution_count": null,
      "metadata": {
        "id": "278426fb"
      },
      "outputs": [],
      "source": [
        "sns.boxplot(data=df['men'])"
      ]
    },
    {
      "cell_type": "code",
      "execution_count": null,
      "metadata": {
        "id": "a637b3da"
      },
      "outputs": [],
      "source": []
    },
    {
      "cell_type": "code",
      "execution_count": null,
      "metadata": {
        "id": "58a7d19e"
      },
      "outputs": [],
      "source": []
    }
  ]
}